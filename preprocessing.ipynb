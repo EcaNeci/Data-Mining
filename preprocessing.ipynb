{
  "nbformat": 4,
  "nbformat_minor": 0,
  "metadata": {
    "colab": {
      "provenance": []
    },
    "kernelspec": {
      "name": "python3",
      "display_name": "Python 3"
    },
    "language_info": {
      "name": "python"
    }
  },
  "cells": [
    {
      "cell_type": "code",
      "execution_count": 4,
      "metadata": {
        "colab": {
          "base_uri": "https://localhost:8080/"
        },
        "id": "yrcYhFbFHXyU",
        "outputId": "56909ec2-8c18-4195-e2e6-5ea492139770"
      },
      "outputs": [
        {
          "output_type": "stream",
          "name": "stdout",
          "text": [
            "[['Kecamatan Pademangan' 'Ciu' 19]\n",
            " ['Kecamatan Pademangan' 'Anggur Orang Tua' 134]\n",
            " ['Kecamatan Pademangan' 'Guinnes' 12]\n",
            " ['Kecamatan Pademangan' 'Anggur Merah' 84]\n",
            " ['Kecamatan Pademangan' 'Rajawali' 84]\n",
            " ['Kecamatan Pademangan' 'Vodka' 4]\n",
            " ['Kecamatan Pademangan' 'Intisari' 9]\n",
            " ['Kecamatan Koja' 'Anggur Orang Tua' 13]\n",
            " ['Kecamatan Koja' 'Anggur Merah' 2]\n",
            " ['Kecamatan Koja' 'Brandy' 60]\n",
            " ['Kecamatan Koja' 'Mansion' 23]\n",
            " ['Kecamatan Koja' 'Rajawali' 55]\n",
            " ['Kecamatan Koja' 'Anggur Ginseng' 132]\n",
            " ['Kecamatan Koja' 'Vodka' 20]\n",
            " ['Kecamatan Cilincing' 'Anggur Merah' 9]\n",
            " ['Kecamatan Cilincing' 'Brandy' 181]\n",
            " ['Kecamatan Cilincing' 'Rajawali' 26]\n",
            " ['Kecamatan Cilincing' 'Kolesom Kecil' 9]\n",
            " ['Kecamatan Cilincing' 'Kolesom Besar' 10]\n",
            " ['Kecamatan Cilincing' 'Aseng' 41]\n",
            " ['KecamatanTanjung Priok' 'Brandy' 60]\n",
            " ['KecamatanTanjung Priok' 'Rajawali' 45]\n",
            " ['KecamatanTanjung Priok' 'Intisari' 3]\n",
            " ['Kecamatan Kelapa Gading' 'Guinnes' 5]\n",
            " ['Kecamatan Kelapa Gading' 'Bintang' 42]\n",
            " ['Kecamatan Kelapa Gading' 'Bir' 66]\n",
            " ['Kecamatan Kelapa Gading' 'Anggur Merah' 120]\n",
            " ['Kecamatan Kelapa Gading' 'Brandy' 60]\n",
            " ['Kecamatan Kelapa Gading' 'Vodka' 4]\n",
            " ['Kecamatan Kelapa Gading' 'Bir Hitam' 119]]\n"
          ]
        }
      ],
      "source": [
        "import numpy as np\n",
        "import matplotlib.pyplot as plt\n",
        "import pandas as pd\n",
        "dataset = pd.read_csv('Datac.csv')\n",
        "x = dataset.iloc[:, :-1].values\n",
        "y = dataset.iloc[:, -1].values\n",
        "print(x)"
      ]
    },
    {
      "cell_type": "code",
      "source": [
        "print(y)"
      ],
      "metadata": {
        "colab": {
          "base_uri": "https://localhost:8080/"
        },
        "id": "d9ctyR5qKiH7",
        "outputId": "cefd38db-01d1-471e-b250-b78a15a73564"
      },
      "execution_count": 5,
      "outputs": [
        {
          "output_type": "stream",
          "name": "stdout",
          "text": [
            "['Botol' 'Botol' 'Botol' 'Botol' 'Botol' 'Botol' 'Botol' 'Botol' 'Botol'\n",
            " 'Botol' 'Botol' 'Botol' 'Botol' 'Botol' 'Botol' 'Botol' 'Botol' 'Botol'\n",
            " 'Botol' 'Botol' 'Botol' 'Botol' 'Botol' 'Botol' 'Botol' 'Botol' 'Botol'\n",
            " 'Botol' 'Botol' 'Botol']\n"
          ]
        }
      ]
    },
    {
      "cell_type": "code",
      "source": [
        "from sklearn.compose import ColumnTransformer\n",
        "from sklearn.preprocessing import OneHotEncoder\n",
        "ct = ColumnTransformer(transformers=[('encoder', OneHotEncoder(), [0])], remainder='passthrough')\n",
        "x = np.array(ct.fit_transform(x))"
      ],
      "metadata": {
        "id": "9PHXxHXmK-3D"
      },
      "execution_count": 7,
      "outputs": []
    },
    {
      "cell_type": "code",
      "source": [
        "print(x)"
      ],
      "metadata": {
        "colab": {
          "base_uri": "https://localhost:8080/"
        },
        "id": "jZ7j73A_M4gx",
        "outputId": "7626a1de-63dc-4e86-f6b8-64964ad91b3d"
      },
      "execution_count": 8,
      "outputs": [
        {
          "output_type": "stream",
          "name": "stdout",
          "text": [
            "[[0.0 0.0 0.0 1.0 0.0 'Ciu' 19]\n",
            " [0.0 0.0 0.0 1.0 0.0 'Anggur Orang Tua' 134]\n",
            " [0.0 0.0 0.0 1.0 0.0 'Guinnes' 12]\n",
            " [0.0 0.0 0.0 1.0 0.0 'Anggur Merah' 84]\n",
            " [0.0 0.0 0.0 1.0 0.0 'Rajawali' 84]\n",
            " [0.0 0.0 0.0 1.0 0.0 'Vodka' 4]\n",
            " [0.0 0.0 0.0 1.0 0.0 'Intisari' 9]\n",
            " [0.0 0.0 1.0 0.0 0.0 'Anggur Orang Tua' 13]\n",
            " [0.0 0.0 1.0 0.0 0.0 'Anggur Merah' 2]\n",
            " [0.0 0.0 1.0 0.0 0.0 'Brandy' 60]\n",
            " [0.0 0.0 1.0 0.0 0.0 'Mansion' 23]\n",
            " [0.0 0.0 1.0 0.0 0.0 'Rajawali' 55]\n",
            " [0.0 0.0 1.0 0.0 0.0 'Anggur Ginseng' 132]\n",
            " [0.0 0.0 1.0 0.0 0.0 'Vodka' 20]\n",
            " [1.0 0.0 0.0 0.0 0.0 'Anggur Merah' 9]\n",
            " [1.0 0.0 0.0 0.0 0.0 'Brandy' 181]\n",
            " [1.0 0.0 0.0 0.0 0.0 'Rajawali' 26]\n",
            " [1.0 0.0 0.0 0.0 0.0 'Kolesom Kecil' 9]\n",
            " [1.0 0.0 0.0 0.0 0.0 'Kolesom Besar' 10]\n",
            " [1.0 0.0 0.0 0.0 0.0 'Aseng' 41]\n",
            " [0.0 0.0 0.0 0.0 1.0 'Brandy' 60]\n",
            " [0.0 0.0 0.0 0.0 1.0 'Rajawali' 45]\n",
            " [0.0 0.0 0.0 0.0 1.0 'Intisari' 3]\n",
            " [0.0 1.0 0.0 0.0 0.0 'Guinnes' 5]\n",
            " [0.0 1.0 0.0 0.0 0.0 'Bintang' 42]\n",
            " [0.0 1.0 0.0 0.0 0.0 'Bir' 66]\n",
            " [0.0 1.0 0.0 0.0 0.0 'Anggur Merah' 120]\n",
            " [0.0 1.0 0.0 0.0 0.0 'Brandy' 60]\n",
            " [0.0 1.0 0.0 0.0 0.0 'Vodka' 4]\n",
            " [0.0 1.0 0.0 0.0 0.0 'Bir Hitam' 119]]\n"
          ]
        }
      ]
    },
    {
      "cell_type": "code",
      "source": [
        "from sklearn.preprocessing import LabelEncoder\n",
        "le = LabelEncoder()\n",
        "y = le.fit_transform(y)"
      ],
      "metadata": {
        "id": "2HlrwLA3M_b-"
      },
      "execution_count": 9,
      "outputs": []
    },
    {
      "cell_type": "code",
      "source": [
        "print(y)"
      ],
      "metadata": {
        "colab": {
          "base_uri": "https://localhost:8080/"
        },
        "id": "R6x3B0UwNCe5",
        "outputId": "91c392e4-5cc2-4e3d-c352-f93fe53818b0"
      },
      "execution_count": 10,
      "outputs": [
        {
          "output_type": "stream",
          "name": "stdout",
          "text": [
            "[0 0 0 0 0 0 0 0 0 0 0 0 0 0 0 0 0 0 0 0 0 0 0 0 0 0 0 0 0 0]\n"
          ]
        }
      ]
    },
    {
      "cell_type": "code",
      "source": [
        "from sklearn.model_selection import train_test_split\n",
        "x_train, x_test, y_train, y_test = train_test_split(x, y, test_size=0.2, random_state=1)"
      ],
      "metadata": {
        "id": "hqeYLHZdNPJw"
      },
      "execution_count": 11,
      "outputs": []
    },
    {
      "cell_type": "code",
      "source": [
        "print(x_train)"
      ],
      "metadata": {
        "colab": {
          "base_uri": "https://localhost:8080/"
        },
        "id": "UOGjFBncNRwY",
        "outputId": "2f4fc186-bece-4f57-8637-fa44e57f1ca4"
      },
      "execution_count": 12,
      "outputs": [
        {
          "output_type": "stream",
          "name": "stdout",
          "text": [
            "[[0.0 1.0 0.0 0.0 0.0 'Anggur Merah' 120]\n",
            " [0.0 0.0 0.0 1.0 0.0 'Anggur Merah' 84]\n",
            " [0.0 1.0 0.0 0.0 0.0 'Bintang' 42]\n",
            " [0.0 0.0 0.0 0.0 1.0 'Intisari' 3]\n",
            " [0.0 1.0 0.0 0.0 0.0 'Guinnes' 5]\n",
            " [0.0 0.0 0.0 1.0 0.0 'Rajawali' 84]\n",
            " [0.0 0.0 0.0 1.0 0.0 'Guinnes' 12]\n",
            " [0.0 1.0 0.0 0.0 0.0 'Bir' 66]\n",
            " [0.0 0.0 0.0 1.0 0.0 'Intisari' 9]\n",
            " [1.0 0.0 0.0 0.0 0.0 'Kolesom Besar' 10]\n",
            " [0.0 0.0 1.0 0.0 0.0 'Vodka' 20]\n",
            " [0.0 0.0 1.0 0.0 0.0 'Anggur Orang Tua' 13]\n",
            " [0.0 1.0 0.0 0.0 0.0 'Brandy' 60]\n",
            " [0.0 0.0 0.0 1.0 0.0 'Anggur Orang Tua' 134]\n",
            " [1.0 0.0 0.0 0.0 0.0 'Rajawali' 26]\n",
            " [0.0 0.0 0.0 1.0 0.0 'Ciu' 19]\n",
            " [1.0 0.0 0.0 0.0 0.0 'Brandy' 181]\n",
            " [0.0 1.0 0.0 0.0 0.0 'Bir Hitam' 119]\n",
            " [0.0 1.0 0.0 0.0 0.0 'Vodka' 4]\n",
            " [0.0 0.0 1.0 0.0 0.0 'Brandy' 60]\n",
            " [0.0 0.0 1.0 0.0 0.0 'Anggur Merah' 2]\n",
            " [0.0 0.0 1.0 0.0 0.0 'Anggur Ginseng' 132]\n",
            " [0.0 0.0 1.0 0.0 0.0 'Rajawali' 55]\n",
            " [0.0 0.0 0.0 1.0 0.0 'Vodka' 4]]\n"
          ]
        }
      ]
    },
    {
      "cell_type": "code",
      "source": [
        "print(x_test)"
      ],
      "metadata": {
        "colab": {
          "base_uri": "https://localhost:8080/"
        },
        "id": "ExhjGR1fNZaa",
        "outputId": "728a9e30-2c5e-4cad-c8b3-cdb4ef0374a7"
      },
      "execution_count": 13,
      "outputs": [
        {
          "output_type": "stream",
          "name": "stdout",
          "text": [
            "[[1.0 0.0 0.0 0.0 0.0 'Kolesom Kecil' 9]\n",
            " [0.0 0.0 0.0 0.0 1.0 'Rajawali' 45]\n",
            " [0.0 0.0 1.0 0.0 0.0 'Mansion' 23]\n",
            " [1.0 0.0 0.0 0.0 0.0 'Aseng' 41]\n",
            " [1.0 0.0 0.0 0.0 0.0 'Anggur Merah' 9]\n",
            " [0.0 0.0 0.0 0.0 1.0 'Brandy' 60]]\n"
          ]
        }
      ]
    },
    {
      "cell_type": "code",
      "source": [
        "print(y_train)"
      ],
      "metadata": {
        "colab": {
          "base_uri": "https://localhost:8080/"
        },
        "id": "bo-dBnXTNbyZ",
        "outputId": "b9bdbbed-0fb2-4fb5-e150-3604f3978cd4"
      },
      "execution_count": 14,
      "outputs": [
        {
          "output_type": "stream",
          "name": "stdout",
          "text": [
            "[0 0 0 0 0 0 0 0 0 0 0 0 0 0 0 0 0 0 0 0 0 0 0 0]\n"
          ]
        }
      ]
    },
    {
      "cell_type": "code",
      "source": [
        "print(y_test)"
      ],
      "metadata": {
        "colab": {
          "base_uri": "https://localhost:8080/"
        },
        "id": "nxRc0UfXNfub",
        "outputId": "d327a836-f160-4897-940b-bf78ef82f923"
      },
      "execution_count": 15,
      "outputs": [
        {
          "output_type": "stream",
          "name": "stdout",
          "text": [
            "[0 0 0 0 0 0]\n"
          ]
        }
      ]
    },
    {
      "cell_type": "code",
      "source": [
        "from sklearn.preprocessing import StandardScaler\n",
        "sc = StandardScaler()\n",
        "x_train[:, 6:] = sc.fit_transform(x_train[:, 6:])\n",
        "x_test[:, 6:] = sc.transform(x_test[:, 6:])"
      ],
      "metadata": {
        "id": "JesPf8n3NoMR"
      },
      "execution_count": 25,
      "outputs": []
    },
    {
      "cell_type": "code",
      "source": [
        "print(x_train)"
      ],
      "metadata": {
        "colab": {
          "base_uri": "https://localhost:8080/"
        },
        "id": "FkO-lf9dQZ38",
        "outputId": "7083ec0c-d116-4fa4-e6f9-9ae4c1554c38"
      },
      "execution_count": 26,
      "outputs": [
        {
          "output_type": "stream",
          "name": "stdout",
          "text": [
            "[[0.0 1.0 0.0 0.0 0.0 'Anggur Merah' 1.318516511453724]\n",
            " [0.0 0.0 0.0 1.0 0.0 'Anggur Merah' 0.6135670894883666]\n",
            " [0.0 1.0 0.0 0.0 0.0 'Bintang' -0.20887390280455026]\n",
            " [0.0 0.0 0.0 0.0 1.0 'Intisari' -0.9725691099336873]\n",
            " [0.0 1.0 0.0 0.0 0.0 'Guinnes' -0.9334052531578342]\n",
            " [0.0 0.0 0.0 1.0 0.0 'Rajawali' 0.6135670894883666]\n",
            " [0.0 0.0 0.0 1.0 0.0 'Guinnes' -0.796331754442348]\n",
            " [0.0 1.0 0.0 0.0 0.0 'Bir' 0.26109237850568795]\n",
            " [0.0 0.0 0.0 1.0 0.0 'Intisari' -0.8550775396061278]\n",
            " [1.0 0.0 0.0 0.0 0.0 'Kolesom Besar' -0.8354956112182012]\n",
            " [0.0 0.0 1.0 0.0 0.0 'Vodka' -0.6396763273389353]\n",
            " [0.0 0.0 1.0 0.0 0.0 'Anggur Orang Tua' -0.7767498260544214]\n",
            " [0.0 1.0 0.0 0.0 0.0 'Brandy' 0.14360080817812837]\n",
            " [0.0 0.0 0.0 1.0 0.0 'Anggur Orang Tua' 1.5926635088846963]\n",
            " [1.0 0.0 0.0 0.0 0.0 'Rajawali' -0.5221847570113757]\n",
            " [0.0 0.0 0.0 1.0 0.0 'Ciu' -0.6592582557268619]\n",
            " [1.0 0.0 0.0 0.0 0.0 'Brandy' 2.513014143117246]\n",
            " [0.0 1.0 0.0 0.0 0.0 'Bir Hitam' 1.2989345830657975]\n",
            " [0.0 1.0 0.0 0.0 0.0 'Vodka' -0.9529871815457608]\n",
            " [0.0 0.0 1.0 0.0 0.0 'Brandy' 0.14360080817812837]\n",
            " [0.0 0.0 1.0 0.0 0.0 'Anggur Merah' -0.9921510383216139]\n",
            " [0.0 0.0 1.0 0.0 0.0 'Anggur Ginseng' 1.553499652108843]\n",
            " [0.0 0.0 1.0 0.0 0.0 'Rajawali' 0.04569116623849542]\n",
            " [0.0 0.0 0.0 1.0 0.0 'Vodka' -0.9529871815457608]]\n"
          ]
        }
      ]
    },
    {
      "cell_type": "code",
      "source": [
        "print(x_test)"
      ],
      "metadata": {
        "colab": {
          "base_uri": "https://localhost:8080/"
        },
        "id": "MrFQ66jTQeMD",
        "outputId": "c5167421-3e4a-40ed-efa4-13b91e221820"
      },
      "execution_count": 27,
      "outputs": [
        {
          "output_type": "stream",
          "name": "stdout",
          "text": [
            "[[1.0 0.0 0.0 0.0 0.0 'Kolesom Kecil' -0.8550775396061278]\n",
            " [0.0 0.0 0.0 0.0 1.0 'Rajawali' -0.1501281176407705]\n",
            " [0.0 0.0 1.0 0.0 0.0 'Mansion' -0.5809305421751555]\n",
            " [1.0 0.0 0.0 0.0 0.0 'Aseng' -0.22845583119247687]\n",
            " [1.0 0.0 0.0 0.0 0.0 'Anggur Merah' -0.8550775396061278]\n",
            " [0.0 0.0 0.0 0.0 1.0 'Brandy' 0.14360080817812837]]\n"
          ]
        }
      ]
    }
  ]
}